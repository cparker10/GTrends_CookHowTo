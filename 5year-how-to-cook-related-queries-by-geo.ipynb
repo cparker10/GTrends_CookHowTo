{
 "cells": [
  {
   "cell_type": "code",
   "execution_count": 5,
   "metadata": {},
   "outputs": [
    {
     "data": {
      "text/html": [
       "        <script type=\"text/javascript\">\n",
       "        window.PlotlyConfig = {MathJaxConfig: 'local'};\n",
       "        if (window.MathJax) {MathJax.Hub.Config({SVG: {font: \"STIX-Web\"}});}\n",
       "        if (typeof require !== 'undefined') {\n",
       "        require.undef(\"plotly\");\n",
       "        requirejs.config({\n",
       "            paths: {\n",
       "                'plotly': ['https://cdn.plot.ly/plotly-latest.min']\n",
       "            }\n",
       "        });\n",
       "        require(['plotly'], function(Plotly) {\n",
       "            window._Plotly = Plotly;\n",
       "        });\n",
       "        }\n",
       "        </script>\n",
       "        "
      ]
     },
     "metadata": {},
     "output_type": "display_data"
    }
   ],
   "source": [
    "import re\n",
    "import plotly\n",
    "import plotly.graph_objs as go\n",
    "plotly.offline.init_notebook_mode(connected=True)\n",
    "import pandas as pd\n"
   ]
  },
  {
   "cell_type": "code",
   "execution_count": 6,
   "metadata": {},
   "outputs": [
    {
     "data": {
      "text/html": [
       "<div>\n",
       "<style>\n",
       "    .dataframe thead tr:only-child th {\n",
       "        text-align: right;\n",
       "    }\n",
       "\n",
       "    .dataframe thead th {\n",
       "        text-align: left;\n",
       "    }\n",
       "\n",
       "    .dataframe tbody tr th {\n",
       "        vertical-align: top;\n",
       "    }\n",
       "</style>\n",
       "<table border=\"1\" class=\"dataframe\">\n",
       "  <thead>\n",
       "    <tr style=\"text-align: right;\">\n",
       "      <th></th>\n",
       "      <th>topic</th>\n",
       "      <th>search</th>\n",
       "    </tr>\n",
       "  </thead>\n",
       "  <tbody>\n",
       "    <tr>\n",
       "      <th>0</th>\n",
       "      <td>how to cook zoodles</td>\n",
       "      <td>+2750%</td>\n",
       "    </tr>\n",
       "    <tr>\n",
       "      <th>1</th>\n",
       "      <td>how to cook zucchini noodles</td>\n",
       "      <td>+950%</td>\n",
       "    </tr>\n",
       "    <tr>\n",
       "      <th>2</th>\n",
       "      <td>how to cook cauliflower rice</td>\n",
       "      <td>+650%</td>\n",
       "    </tr>\n",
       "    <tr>\n",
       "      <th>3</th>\n",
       "      <td>how to cook halloumi</td>\n",
       "      <td>+200%</td>\n",
       "    </tr>\n",
       "    <tr>\n",
       "      <th>4</th>\n",
       "      <td>how to cook egusi soup</td>\n",
       "      <td>+190%</td>\n",
       "    </tr>\n",
       "  </tbody>\n",
       "</table>\n",
       "</div>"
      ],
      "text/plain": [
       "                          topic  search\n",
       "0           how to cook zoodles  +2750%\n",
       "1  how to cook zucchini noodles   +950%\n",
       "2  how to cook cauliflower rice   +650%\n",
       "3          how to cook halloumi   +200%\n",
       "4        how to cook egusi soup   +190%"
      ]
     },
     "execution_count": 6,
     "metadata": {},
     "output_type": "execute_result"
    }
   ],
   "source": [
    "df = pd.read_csv('C:/Users/parker/trends_django_proj/apps/djapp1/data/relatedQueries-ww-rising.csv',skiprows=2, header=None)\n",
    "df.columns = ['topic','search']\n",
    "df.head()"
   ]
  },
  {
   "cell_type": "code",
   "execution_count": 8,
   "metadata": {},
   "outputs": [
    {
     "name": "stdout",
     "output_type": "stream",
     "text": [
      "<class 'pandas.core.frame.DataFrame'>\n",
      "RangeIndex: 19 entries, 0 to 18\n",
      "Data columns (total 2 columns):\n",
      "topic     19 non-null object\n",
      "search    19 non-null object\n",
      "dtypes: object(2)\n",
      "memory usage: 384.0+ bytes\n"
     ]
    },
    {
     "name": "stderr",
     "output_type": "stream",
     "text": [
      "C:\\Users\\parker\\Anaconda3\\envs\\trends_viz_howtocook\\lib\\site-packages\\ipykernel_launcher.py:1: FutureWarning:\n",
      "\n",
      "currently extract(expand=None) means expand=False (return Index/Series/DataFrame) but in a future version of pandas this will be changed to expand=True (return DataFrame)\n",
      "\n"
     ]
    }
   ],
   "source": [
    "df.search = df.search.str.extract('(\\d+)')\n",
    "df.head()\n",
    "df.info()"
   ]
  },
  {
   "cell_type": "code",
   "execution_count": 9,
   "metadata": {},
   "outputs": [
    {
     "name": "stdout",
     "output_type": "stream",
     "text": [
      "<class 'pandas.core.frame.DataFrame'>\n",
      "RangeIndex: 19 entries, 0 to 18\n",
      "Data columns (total 2 columns):\n",
      "topic     19 non-null object\n",
      "search    19 non-null int32\n",
      "dtypes: int32(1), object(1)\n",
      "memory usage: 308.0+ bytes\n"
     ]
    }
   ],
   "source": [
    "df.search = df.search.astype(str).astype(int)\n",
    "df.head()\n",
    "df.info()"
   ]
  },
  {
   "cell_type": "code",
   "execution_count": 10,
   "metadata": {},
   "outputs": [
    {
     "name": "stdout",
     "output_type": "stream",
     "text": [
      "<class 'pandas.core.frame.DataFrame'>\n",
      "RangeIndex: 250 entries, 0 to 249\n",
      "Data columns (total 3 columns):\n",
      "country    250 non-null object\n",
      "search     3 non-null float64\n",
      "CODE       3 non-null object\n",
      "dtypes: float64(1), object(2)\n",
      "memory usage: 5.9+ KB\n"
     ]
    },
    {
     "name": "stderr",
     "output_type": "stream",
     "text": [
      "C:\\Users\\parker\\Anaconda3\\envs\\trends_viz_howtocook\\lib\\site-packages\\IPython\\core\\display.py:689: UserWarning:\n",
      "\n",
      "Consider using IPython.display.IFrame instead\n",
      "\n"
     ]
    },
    {
     "data": {
      "text/html": [
       "<iframe id=\"igraph\" scrolling=\"no\" style=\"border:none;\" seamless=\"seamless\" src=\"https://plot.ly/~cparker10/2.embed\" height=\"525px\" width=\"100%\"></iframe>"
      ],
      "text/plain": [
       "<chart_studio.tools.PlotlyDisplay object>"
      ]
     },
     "execution_count": 10,
     "metadata": {},
     "output_type": "execute_result"
    }
   ],
   "source": [
    "zoodles = pd.read_csv('C:/Users/parker/trends_django_proj/apps/djapp1/data/5-year/geoMap-zoodles-country.csv', skiprows=3, header=None)\n",
    "zoodles.columns = ['country', 'search', 'CODE']\n",
    "zoodles.head()\n",
    "zoodles.info()\n",
    "zoodlesdata = dict(\n",
    "    type = 'choropleth',\n",
    "    locations = zoodles['CODE'],\n",
    "    z = zoodles['search'],\n",
    "    text = zoodles['country'],\n",
    "    colorscale = 'YlOrRd',\n",
    "    zmin=0, \n",
    "    zmax=100,\n",
    "    hoverinfo = ['text+z'],\n",
    "    autocolorscale = False,\n",
    "    reversescale = True,\n",
    "    colorbar = {'title':'Search'},\n",
    ")\n",
    "\n",
    "zoodleslayout = dict(\n",
    "    title = 'How to Cook Zoodles Search Popularity',\n",
    "    geo = dict(showframe=False,\n",
    "        landcolor = 'lightgray',\n",
    "        showland = True,\n",
    "        showcountries = True,\n",
    "        countrycolor = 'gray',\n",
    "        countrywidth = 0.5,\n",
    "               projection={'type':'natural earth'})\n",
    ")\n",
    "\n",
    "zoodlesfig = go.Figure(data = [zoodlesdata], layout = zoodleslayout)\n",
    "#plotly.offline.iplot(zoodlesfig, filename = 'zoodles')\n",
    "plotly.plotly.iplot(zoodlesfig, filename = 'zoodles')"
   ]
  },
  {
   "cell_type": "code",
   "execution_count": 11,
   "metadata": {},
   "outputs": [
    {
     "name": "stdout",
     "output_type": "stream",
     "text": [
      "<class 'pandas.core.frame.DataFrame'>\n",
      "RangeIndex: 250 entries, 0 to 249\n",
      "Data columns (total 3 columns):\n",
      "country    250 non-null object\n",
      "search     2 non-null float64\n",
      "CODE       2 non-null object\n",
      "dtypes: float64(1), object(2)\n",
      "memory usage: 5.9+ KB\n"
     ]
    }
   ],
   "source": [
    "egusi = pd.read_csv('C:/Users/parker/trends_django_proj/apps/djapp1/data/5-year/geoMap-egusi-soup-country.csv', skiprows=3, header=None)\n",
    "egusi.columns = ['country', 'search', 'CODE']\n",
    "egusi.head()\n",
    "egusi.info()"
   ]
  },
  {
   "cell_type": "code",
   "execution_count": 12,
   "metadata": {},
   "outputs": [
    {
     "data": {
      "text/html": [
       "<iframe id=\"igraph\" scrolling=\"no\" style=\"border:none;\" seamless=\"seamless\" src=\"https://plot.ly/~cparker10/6.embed\" height=\"525px\" width=\"100%\"></iframe>"
      ],
      "text/plain": [
       "<chart_studio.tools.PlotlyDisplay object>"
      ]
     },
     "execution_count": 12,
     "metadata": {},
     "output_type": "execute_result"
    }
   ],
   "source": [
    "egusidata = dict(\n",
    "    type = 'choropleth',\n",
    "    locations = egusi['CODE'],\n",
    "    z = egusi['search'],\n",
    "    text = egusi['country'],\n",
    "    colorscale = 'YlOrRd',\n",
    "    zmin=0, \n",
    "    zmax=100,\n",
    "    hoverinfo = ['text+z'],\n",
    "    autocolorscale = False,\n",
    "    reversescale = True,\n",
    "    colorbar = {'title':'Search'},\n",
    ")\n",
    "\n",
    "egusilayout = dict(\n",
    "    title = 'How to Cook Egusi Soup Search Popularity',\n",
    "    geo = dict(showframe=False,\n",
    "        landcolor = 'lightgray',\n",
    "        showland = True,\n",
    "        showcountries = True,\n",
    "        countrycolor = 'gray',\n",
    "        countrywidth = 0.5,\n",
    "               projection={'type':'natural earth'})\n",
    ")\n",
    "\n",
    "egusifig = go.Figure(data = [egusidata], layout = egusilayout)\n",
    "#plotly.offline.iplot(egusifig, filename = 'egusi')\n",
    "plotly.plotly.iplot(egusifig, filename = 'egusi')"
   ]
  },
  {
   "cell_type": "code",
   "execution_count": 13,
   "metadata": {},
   "outputs": [
    {
     "name": "stdout",
     "output_type": "stream",
     "text": [
      "<class 'pandas.core.frame.DataFrame'>\n",
      "RangeIndex: 250 entries, 0 to 249\n",
      "Data columns (total 3 columns):\n",
      "country    250 non-null object\n",
      "search     5 non-null float64\n",
      "CODE       5 non-null object\n",
      "dtypes: float64(1), object(2)\n",
      "memory usage: 5.9+ KB\n"
     ]
    },
    {
     "data": {
      "text/html": [
       "<iframe id=\"igraph\" scrolling=\"no\" style=\"border:none;\" seamless=\"seamless\" src=\"https://plot.ly/~cparker10/10.embed\" height=\"525px\" width=\"100%\"></iframe>"
      ],
      "text/plain": [
       "<chart_studio.tools.PlotlyDisplay object>"
      ]
     },
     "execution_count": 13,
     "metadata": {},
     "output_type": "execute_result"
    }
   ],
   "source": [
    "caulirice = pd.read_csv('C:/Users/parker/trends_django_proj/apps/djapp1/data/5-year/geoMap-cauliflower-rice-country.csv', skiprows=3, header=None)\n",
    "caulirice.columns = ['country', 'search', 'CODE']\n",
    "caulirice.head()\n",
    "caulirice.info()\n",
    "cauliricedata = dict(\n",
    "    type = 'choropleth',\n",
    "    locations = caulirice['CODE'],\n",
    "    z = caulirice['search'],\n",
    "    text = caulirice['country'],\n",
    "    colorscale = 'YlOrRd',\n",
    "    zmin=0, \n",
    "    zmax=100,\n",
    "    hoverinfo = ['text+z'],\n",
    "    autocolorscale = False,\n",
    "    reversescale = True,\n",
    "    colorbar = {'title':'Search'},\n",
    ")\n",
    "\n",
    "cauliricelayout = dict(\n",
    "    title = 'How to Cook Cauliflower Rice Search Popularity',\n",
    "    geo = dict(showframe=False,\n",
    "        landcolor = 'lightgray',\n",
    "        showland = True,\n",
    "        showcountries = True,\n",
    "        countrycolor = 'gray',\n",
    "        countrywidth = 0.5,\n",
    "               projection={'type':'natural earth'})\n",
    ")\n",
    "\n",
    "cauliricefig = go.Figure(data = [cauliricedata], layout = cauliricelayout)\n",
    "#plotly.offline.iplot(cauliricefig, filename = 'caulirice')\n",
    "plotly.plotly.iplot(cauliricefig, filename = 'caulirice')"
   ]
  },
  {
   "cell_type": "code",
   "execution_count": 14,
   "metadata": {},
   "outputs": [
    {
     "name": "stdout",
     "output_type": "stream",
     "text": [
      "<class 'pandas.core.frame.DataFrame'>\n",
      "RangeIndex: 250 entries, 0 to 249\n",
      "Data columns (total 3 columns):\n",
      "country    250 non-null object\n",
      "search     4 non-null float64\n",
      "CODE       4 non-null object\n",
      "dtypes: float64(1), object(2)\n",
      "memory usage: 5.9+ KB\n"
     ]
    },
    {
     "data": {
      "text/html": [
       "<iframe id=\"igraph\" scrolling=\"no\" style=\"border:none;\" seamless=\"seamless\" src=\"https://plot.ly/~cparker10/12.embed\" height=\"525px\" width=\"100%\"></iframe>"
      ],
      "text/plain": [
       "<chart_studio.tools.PlotlyDisplay object>"
      ]
     },
     "execution_count": 14,
     "metadata": {},
     "output_type": "execute_result"
    }
   ],
   "source": [
    "znoods = pd.read_csv('C:/Users/parker/trends_django_proj/apps/djapp1/data/5-year/geoMap-zucchini-noodles-country.csv', skiprows=3, header=None)\n",
    "znoods.columns = ['country', 'search', 'CODE']\n",
    "znoods.head()\n",
    "znoods.info()\n",
    "znoodsdata = dict(\n",
    "    type = 'choropleth',\n",
    "    locations = znoods['CODE'],\n",
    "    z = znoods['search'],\n",
    "    text = znoods['country'],\n",
    "    colorscale = 'YlOrRd',\n",
    "    zmin=0, \n",
    "    zmax=100,\n",
    "    hoverinfo = ['text+z'],\n",
    "    autocolorscale = False,\n",
    "    reversescale = True,\n",
    "    colorbar = {'title':'Search'},\n",
    ")\n",
    "\n",
    "znoodslayout = dict(\n",
    "    title = 'How to Cook Zucchini Noodles Search Popularity',\n",
    "    geo = dict(showframe=False,\n",
    "        landcolor = 'lightgray',\n",
    "        showland = True,\n",
    "        showcountries = True,\n",
    "        countrycolor = 'gray',\n",
    "        countrywidth = 0.5,\n",
    "        projection={'type':'natural earth'})\n",
    ")\n",
    "\n",
    "znoodsfig = go.Figure(data = [znoodsdata], layout = znoodslayout)\n",
    "#plotly.offline.iplot(znoodsznoodsfig, filename = 'znoods')\n",
    "plotly.plotly.iplot(znoodsfig, filename = 'znoods')"
   ]
  },
  {
   "cell_type": "code",
   "execution_count": 15,
   "metadata": {},
   "outputs": [
    {
     "name": "stdout",
     "output_type": "stream",
     "text": [
      "<class 'pandas.core.frame.DataFrame'>\n",
      "RangeIndex: 250 entries, 0 to 249\n",
      "Data columns (total 3 columns):\n",
      "country    250 non-null object\n",
      "search     5 non-null float64\n",
      "CODE       5 non-null object\n",
      "dtypes: float64(1), object(2)\n",
      "memory usage: 5.9+ KB\n"
     ]
    },
    {
     "data": {
      "text/html": [
       "<iframe id=\"igraph\" scrolling=\"no\" style=\"border:none;\" seamless=\"seamless\" src=\"https://plot.ly/~cparker10/14.embed\" height=\"525px\" width=\"100%\"></iframe>"
      ],
      "text/plain": [
       "<chart_studio.tools.PlotlyDisplay object>"
      ]
     },
     "execution_count": 15,
     "metadata": {},
     "output_type": "execute_result"
    }
   ],
   "source": [
    "halloumi = pd.read_csv('C:/Users/parker/trends_django_proj/apps/djapp1/data/5-year/geoMap-halloumi-country.csv', skiprows=3, header=None)\n",
    "halloumi.columns = ['country', 'search', 'CODE']\n",
    "halloumi.head()\n",
    "halloumi.info()\n",
    "halloumidata = dict(\n",
    "    type = 'choropleth',\n",
    "    locations = halloumi['CODE'],\n",
    "    z = halloumi['search'],\n",
    "    text = halloumi['country'],\n",
    "    colorscale = 'YlOrRd',\n",
    "    zmin=0, \n",
    "    zmax=100,\n",
    "    hoverinfo = ['text+z'],\n",
    "    autocolorscale = False,\n",
    "    reversescale = True,\n",
    "    colorbar = {'title':'Search'},\n",
    "    #hovertemplate = 'Search: %{halloumi.search}',\n",
    ")\n",
    "\n",
    "halloumilayout = dict(\n",
    "    title = 'How to Cook Halloumi Search Popularity',\n",
    "    #template = pio.templates['plotly'],\n",
    "    geo = dict(showframe=False,\n",
    "        landcolor = 'lightgray',\n",
    "        showland = True,\n",
    "        showcountries = True,\n",
    "        countrycolor = 'gray',\n",
    "        countrywidth = 0.5,\n",
    "        \n",
    "        projection={'type':'natural earth'})\n",
    ")\n",
    "\n",
    "halloumifig = go.Figure(data = [halloumidata], layout = halloumilayout)\n",
    "#plotly.offline.iplot(halloumifig, filename = 'halloumi')\n",
    "plotly.plotly.iplot(halloumifig, filename = 'halloumi')"
   ]
  },
  {
   "cell_type": "code",
   "execution_count": 18,
   "metadata": {},
   "outputs": [
    {
     "data": {
      "text/html": [
       "<iframe id=\"igraph\" scrolling=\"no\" style=\"border:none;\" seamless=\"seamless\" src=\"https://plot.ly/~cparker10/16.embed\" height=\"525px\" width=\"100%\"></iframe>"
      ],
      "text/plain": [
       "<chart_studio.tools.PlotlyDisplay object>"
      ]
     },
     "execution_count": 18,
     "metadata": {},
     "output_type": "execute_result"
    }
   ],
   "source": [
    "data = [zoodlesdata, znoodsdata, cauliricedata, halloumidata, egusidata]\n",
    "\n",
    "layout = dict(\n",
    "    height = 800,\n",
    "    margin = dict( t=0, b=0, l=0, r=0 ),\n",
    "    font = dict( color='#FFFFFF', size=11 ),\n",
    "    paper_bgcolor = '#000000',\n",
    "    mapbox=dict(\n",
    "        #accesstoken=mapbox_access_token,\n",
    "        bearing=0,\n",
    "        center=dict(\n",
    "            lat=38,\n",
    "            lon=-94\n",
    "        ),\n",
    "        pitch=0,\n",
    "        zoom=3,\n",
    "        style='dark'\n",
    "    ),\n",
    ")\n",
    "\n",
    "updatemenus = list([\n",
    "    dict(type=\"buttons\",\n",
    "         direction=\"right\",\n",
    "         x = 0.5,\n",
    "         xanchor = 'center',\n",
    "         y = 1.15,\n",
    "         yanchor = 'top',\n",
    "         active=0,\n",
    "         buttons=list([   \n",
    "            dict(label = 'Zoodles',\n",
    "                 method = 'update',\n",
    "                 args = [{'visible': [True, False, False, False, False]},\n",
    "                         {'title': 'How to Cook Zoodles Search Popularity'}]),\n",
    "             \n",
    "             dict(label = 'Zucchini Noodles',\n",
    "                 method = 'update',\n",
    "                 args = [{'visible': [False, True, False, False, False]},\n",
    "                         {'title': 'How to Cook Zucchini Noodles Search Popularity'}]),\n",
    "\n",
    "             dict(label = 'Cauliflower Rice',\n",
    "                 method = 'update',\n",
    "                 args = [{'visible': [False, False, True, False, False]},\n",
    "                         {'title': 'How to Cook Cauliflower Rice Search Popularity'}]),\n",
    "             \n",
    "             dict(label = 'Halloumi',\n",
    "                 method = 'update',\n",
    "                 args = [{'visible': [False, False, False, True, False]},\n",
    "                         {'title': 'How to Cook Halloumi Search Popularity'}]),\n",
    "             \n",
    "             dict(label = 'Egusi Soup',\n",
    "                 method = 'update',\n",
    "                 args = [{'visible': [False, False, False, False, True]},\n",
    "                         {'title': 'How to Cook Egusi Soup Search Popularity'}]),\n",
    "        ]),\n",
    "    )\n",
    "])\n",
    "\n",
    "annotations = list([\n",
    "    #dict(text='', x=0.01, y=0.95, yref='paper', align='center', showarrow=False,font=dict(size=10)),\n",
    "    dict(text='',x=0, y=1.25, yref='paper', align='center', showarrow=False,font=dict(size=16))\n",
    "])\n",
    "\n",
    "layout['updatemenus'] = updatemenus\n",
    "layout['annotations'] = annotations\n",
    "\n",
    "#layout = dict(title='How to Cook Related Searches', showlegend=False,annotations=annotations, updatemenus=updatemenus)\n",
    "layout = dict(showlegend=False,annotations=annotations, updatemenus=updatemenus)\n",
    "\n",
    "fig = dict(data=data, layout=layout)\n",
    "\n",
    "#plotly.offline.plot(fig, auto_open=False, show_link=False)\n",
    "plotly.plotly.iplot(fig, filename = 'buttonstest')"
   ]
  },
  {
   "cell_type": "code",
   "execution_count": null,
   "metadata": {},
   "outputs": [],
   "source": []
  }
 ],
 "metadata": {
  "kernelspec": {
   "display_name": "Python 3",
   "language": "python",
   "name": "python3"
  },
  "language_info": {
   "codemirror_mode": {
    "name": "ipython",
    "version": 3
   },
   "file_extension": ".py",
   "mimetype": "text/x-python",
   "name": "python",
   "nbconvert_exporter": "python",
   "pygments_lexer": "ipython3",
   "version": "3.6.6"
  }
 },
 "nbformat": 4,
 "nbformat_minor": 2
}
